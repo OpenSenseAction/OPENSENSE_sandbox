{
 "cells": [
  {
   "cell_type": "code",
   "execution_count": 1,
   "id": "88b8bc90-55a0-4a41-9926-58ecf8204586",
   "metadata": {},
   "outputs": [],
   "source": [
    "%load_ext autoreload\n",
    "%autoreload 2\n",
    "\n",
    "import matplotlib.pyplot as plt\n",
    "import xarray as xr\n",
    "import numpy as np\n",
    "import pandas as pd\n",
    "import os\n",
    "from tqdm import tqdm\n",
    "import sys"
   ]
  },
  {
   "cell_type": "code",
   "execution_count": 2,
   "id": "e8d299ab-812e-4528-915d-97e9957f4cf4",
   "metadata": {},
   "outputs": [],
   "source": [
    "path_transformer = os.path.abspath('..')\n",
    "sys.path.append(path_transformer)\n",
    "import opensense_data_downloader_and_transformer as oddt"
   ]
  },
  {
   "cell_type": "markdown",
   "id": "2d23a2b4-a08f-4094-adc0-3bdc8f9bf40c",
   "metadata": {},
   "source": [
    "# Derive small example dataset from the OpenMRG dataset from SMHI with large CML dataset\n",
    "source: https://zenodo.org/record/6673751"
   ]
  },
  {
   "cell_type": "code",
   "execution_count": 3,
   "id": "8dfbf1e0-72be-44c2-8e98-07e6e7b44fac",
   "metadata": {},
   "outputs": [
    {
     "name": "stdout",
     "output_type": "stream",
     "text": [
      "File already exists at desired location andersson_2022_OpenMRG/OpenMRG.zip\n",
      "Not downloading!\n"
     ]
    }
   ],
   "source": [
    "oddt.download_andersson_2022_OpenMRG(local_path='andersson_2022_OpenMRG/', print_output=True)"
   ]
  },
  {
   "cell_type": "code",
   "execution_count": 4,
   "id": "5e0d4ba5-580a-4217-9252-26dbf1e00e24",
   "metadata": {},
   "outputs": [],
   "source": [
    "ds = oddt.transform_andersson_2022_OpenMRG(\n",
    "    fn='andersson_2022_OpenMRG/OpenMRG.zip', \n",
    "    path_to_extract_to='data/andersson_2022_OpenMRG/',\n",
    "    time_start_end = ('2015-08-27T00', '2015-08-28T00'), # default (None, None) -> no timeslicing. ie. ('2015-08-31T00', None),\n",
    "    restructure_data=True,\n",
    ")"
   ]
  },
  {
   "cell_type": "code",
   "execution_count": 5,
   "id": "698fb4ea-6480-44a6-9d29-cbfe4e8d7804",
   "metadata": {},
   "outputs": [],
   "source": [
    "ds = ds.resample(time = '1T').first()"
   ]
  },
  {
   "cell_type": "code",
   "execution_count": 6,
   "id": "6e42a9ad-c148-4d12-b627-93ba0fb3d480",
   "metadata": {},
   "outputs": [],
   "source": [
    "ds[\"tsl\"] = ds.tsl.interpolate_na(dim=\"time\", method=\"linear\", max_gap=\"5min\")\n",
    "ds[\"rsl\"] = ds.rsl.interpolate_na(dim=\"time\", method=\"linear\", max_gap=\"5min\")"
   ]
  },
  {
   "cell_type": "code",
   "execution_count": 7,
   "id": "059782ee-3148-4ae4-9ba8-e1a27d4bb644",
   "metadata": {},
   "outputs": [],
   "source": [
    "\n",
    "ds.to_netcdf(\n",
    "    path='./openMRG_example.nc',\n",
    "    encoding={\n",
    "        'rsl': {\n",
    "            'dtype': 'int32',\n",
    "            'scale_factor': 0.01,\n",
    "            '_FillValue': -9999,\n",
    "            'zlib': True, \n",
    "            'complevel': 4},\n",
    "        'tsl':{\n",
    "            'dtype': 'int32',\n",
    "            'scale_factor': 0.01,\n",
    "            '_FillValue': -9999,\n",
    "            'zlib': True, \n",
    "            'complevel': 4}\n",
    "    }\n",
    ")\n"
   ]
  },
  {
   "cell_type": "code",
   "execution_count": 8,
   "id": "7e95a260-1bb1-4aa1-a1a0-150d93497b2c",
   "metadata": {},
   "outputs": [],
   "source": [
    "# get short radar data for use case\n",
    "ds_rad = xr.open_dataset('./andersson_2022_OpenMRG/radar/radar.nc').sel(\n",
    "    time = slice('2015-08-27T01:00', '2015-08-27T02:30'))"
   ]
  },
  {
   "cell_type": "code",
   "execution_count": 9,
   "id": "10ff57e3-f7eb-406c-959d-7bffe56aae76",
   "metadata": {},
   "outputs": [],
   "source": [
    "def marshal_palmer(dBZ):\n",
    "    return ( 10 **(dBZ/10) / 200)**(5/8)\n",
    "ds_rad['rainfall'] = marshal_palmer(ds_rad.data)\n",
    "ds_rad = ds_rad.drop('data')"
   ]
  },
  {
   "cell_type": "code",
   "execution_count": 10,
   "id": "85342307-a74f-4000-9772-30750ce458e7",
   "metadata": {},
   "outputs": [],
   "source": [
    "ds_rad.to_netcdf('./openMRG_example_rad.nc')"
   ]
  },
  {
   "cell_type": "markdown",
   "id": "3fe2cdb0-46fe-4c7c-9571-ac96554106c3",
   "metadata": {},
   "source": [
    "# Tests:"
   ]
  },
  {
   "cell_type": "markdown",
   "id": "6141c40c-b418-4d37-92cc-e37693c947f5",
   "metadata": {},
   "source": [
    "### 1) test execution time\n",
    "The two methods uses different approaches for structuring the datasets. This compares the execution time of the two methods. "
   ]
  },
  {
   "cell_type": "code",
   "execution_count": 11,
   "id": "7309cdd7-b1c2-4f19-aec8-5203cfc686d3",
   "metadata": {},
   "outputs": [
    {
     "name": "stdout",
     "output_type": "stream",
     "text": [
      "CPU times: user 12.1 s, sys: 3.04 s, total: 15.2 s\n",
      "Wall time: 15.6 s\n"
     ]
    }
   ],
   "source": [
    "%%time\n",
    "ds = oddt.transform_andersson_2022_OpenMRG(\n",
    "    fn='andersson_2022_OpenMRG/OpenMRG.zip', \n",
    "    path_to_extract_to='andersson_2022_OpenMRG/',\n",
    "    time_start_end = ('2015-08-27T00', '2015-08-28T00'), # default (None, None) -> no timeslicing. ie. ('2015-08-31T00', None),\n",
    "    restructure_data=True,\n",
    ")"
   ]
  },
  {
   "cell_type": "code",
   "execution_count": 12,
   "id": "1e51d1c7-4c48-41e1-9208-47a2d32147ef",
   "metadata": {},
   "outputs": [
    {
     "name": "stdout",
     "output_type": "stream",
     "text": [
      "CPU times: user 19.4 s, sys: 7.25 s, total: 26.6 s\n",
      "Wall time: 26.8 s\n"
     ]
    }
   ],
   "source": [
    "%%time\n",
    "ds_linkbylink = oddt.transform_andersson_2022_OpenMRG_linkbylink(\n",
    "    fn='andersson_2022_OpenMRG/OpenMRG.zip', \n",
    "    path_to_extract_to='andersson_2022_OpenMRG/',\n",
    "    time_start_end = ('2015-08-27T00', '2015-08-28T00'), # default (None, None) -> no timeslicing. ie. ('2015-08-31T00', None),\n",
    "    restructure_data=True,\n",
    ")"
   ]
  },
  {
   "cell_type": "markdown",
   "id": "56a2caa0-8576-4efb-8151-5b8ad0d3f11c",
   "metadata": {},
   "source": [
    "### 2) test matching data\n",
    "The two datasets has the same structure, this test checks that the data contained in them are the same"
   ]
  },
  {
   "cell_type": "code",
   "execution_count": 13,
   "id": "110fc574-32d1-4e96-95b4-661f70654bbf",
   "metadata": {},
   "outputs": [],
   "source": [
    "# shorten so that time match ( for comparison ) \n",
    "ds = ds.sel(time = ds_linkbylink.time)"
   ]
  },
  {
   "cell_type": "code",
   "execution_count": 14,
   "id": "9e211e05-f7fe-4e21-838b-ac94c7f1bf94",
   "metadata": {},
   "outputs": [
    {
     "name": "stdout",
     "output_type": "stream",
     "text": [
      "test passed\n",
      "test passed\n"
     ]
    }
   ],
   "source": [
    "# check that they are equal\n",
    "# rsl\n",
    "is_not_nan = ~np.isnan(ds_linkbylink.rsl) # skip nan as nan generates False\n",
    "if (ds.rsl.transpose('cml_id', 'sublink_id', 'time').values[is_not_nan] == ds_linkbylink.rsl.values[is_not_nan]).all():\n",
    "    print('test passed')\n",
    "# tsl\n",
    "is_not_nan = ~np.isnan(ds_linkbylink.tsl)\n",
    "if (ds.tsl.transpose('cml_id', 'sublink_id', 'time').values[is_not_nan] == ds_linkbylink.tsl.values[is_not_nan]).all():\n",
    "    print('test passed')"
   ]
  },
  {
   "cell_type": "markdown",
   "id": "c3645b0f-e19b-4569-baed-37dadc54c6b8",
   "metadata": {},
   "source": [
    "### 3) test metadata"
   ]
  },
  {
   "cell_type": "code",
   "execution_count": 15,
   "id": "79db154c-3408-408d-a368-e770a0fb730c",
   "metadata": {},
   "outputs": [],
   "source": [
    "df_metadata = pd.read_csv(os.path.join('andersson_2022_Ods_resG/cml/cml_metadata.csv'))"
   ]
  },
  {
   "cell_type": "code",
   "execution_count": 16,
   "id": "36132202-950e-4cf0-863c-efbd3ac64d3b",
   "metadata": {
    "tags": []
   },
   "outputs": [
    {
     "name": "stdout",
     "output_type": "stream",
     "text": [
      "test passed\n"
     ]
    }
   ],
   "source": [
    "# Note: only use direction A for possition and length (more correct OpenSense standards), \n",
    "# for polarization and frequency use both directions (more correct physics)\n",
    "all_good = True\n",
    "for cml_id in ds.cml_id:\n",
    "    for sublink_id in ds.sublink_id:\n",
    "        cml_meta = df_metadata.loc[(df_metadata.Link == cml_id.values) & (df_metadata.Direction == 'A')]  \n",
    "\n",
    "        # site 0 lat\n",
    "        if ds.sel(cml_id = cml_id, sublink_id = sublink_id).site_0_lat.values != cml_meta.NearLatitude_DecDeg.values:   \n",
    "            all_good = False\n",
    "        \n",
    "        # site 0 lon\n",
    "        if ds.sel(cml_id = cml_id, sublink_id = sublink_id).site_0_lon.values != cml_meta.NearLongitude_DecDeg.values:   \n",
    "            all_good = False\n",
    "\n",
    "        # site 1 lat\n",
    "        if ds.sel(cml_id = cml_id, sublink_id = sublink_id).site_1_lat.values != cml_meta.FarLatitude_DecDeg.values:   \n",
    "            all_good = False        \n",
    "\n",
    "        # site 1 lon\n",
    "        if ds.sel(cml_id = cml_id, sublink_id = sublink_id).site_1_lon.values != cml_meta.FarLongitude_DecDeg.values:  \n",
    "            all_good = False    \n",
    "        \n",
    "        # polarization\n",
    "        cml_meta = df_metadata.loc[(df_metadata.Link == cml_id.values) & (df_metadata.Direction == np.where(\n",
    "            sublink_id == 'sublink_1', 'A', 'B'))]  \n",
    "        if ds.sel(cml_id = cml_id, sublink_id = sublink_id).polarization.values != np.where(\n",
    "            cml_meta.Polarization.values == 'Vertical', 'v', 'h'):\n",
    "            all_good = False    \n",
    "        \n",
    "        # frequency\n",
    "        if ds.sel(cml_id = cml_id, sublink_id = sublink_id).frequency.values != cml_meta.Frequency_GHz.values:\n",
    "            all_good = False  \n",
    "        \n",
    "if all_good:\n",
    "    print('test passed')\n",
    "        \n",
    "                    \n"
   ]
  },
  {
   "cell_type": "code",
   "execution_count": 17,
   "id": "806d5e57-50d7-48fc-932e-365cc07a6927",
   "metadata": {},
   "outputs": [
    {
     "name": "stdout",
     "output_type": "stream",
     "text": [
      "test passed\n"
     ]
    }
   ],
   "source": [
    "# Note: only use direction A for possition and length (more correct OpenSense standards), \n",
    "# for polarization and frequency use both directions (more correct physics)\n",
    "all_good = True\n",
    "for cml_id in ds_linkbylink.cml_id:\n",
    "    for sublink_id in ds_linkbylink.sublink_id:\n",
    "        cml_meta = df_metadata.loc[(df_metadata.Link == cml_id.values) & (df_metadata.Direction == 'A')]  \n",
    "\n",
    "        # site 0 lat\n",
    "        if ds_linkbylink.sel(cml_id = cml_id, sublink_id = sublink_id).site_0_lat.values != cml_meta.NearLatitude_DecDeg.values:   \n",
    "            all_good = False\n",
    "\n",
    "        # site 0 lon\n",
    "        if ds_linkbylink.sel(cml_id = cml_id, sublink_id = sublink_id).site_0_lon.values != cml_meta.NearLongitude_DecDeg.values:   \n",
    "            all_good = False\n",
    "\n",
    "        # site 1 lat\n",
    "        if ds_linkbylink.sel(cml_id = cml_id, sublink_id = sublink_id).site_1_lat.values != cml_meta.FarLatitude_DecDeg.values:   \n",
    "            all_good = False        \n",
    "\n",
    "        # site 1 lon\n",
    "        if ds_linkbylink.sel(cml_id = cml_id, sublink_id = sublink_id).site_1_lon.values != cml_meta.FarLongitude_DecDeg.values:  \n",
    "            all_good = False    \n",
    "\n",
    "        # polarization\n",
    "        meta_sublink_id = np.where(sublink_id == 'sublink_1', 'A', 'B')\n",
    "        cml_meta = df_metadata.loc[(df_metadata.Link == cml_id.values) & (df_metadata.Direction == meta_sublink_id)]  \n",
    "        if ds_linkbylink.sel(cml_id = cml_id, sublink_id = sublink_id).polarization.values != cml_meta.Polarization.values:\n",
    "            all_good = False    \n",
    "\n",
    "        # frequency\n",
    "        if ds_linkbylink.sel(cml_id = cml_id, sublink_id = sublink_id).frequency.values != cml_meta.Frequency_GHz.values:\n",
    "            all_good = False  \n",
    "            \n",
    "if all_good:\n",
    "    print('test passed')"
   ]
  },
  {
   "cell_type": "markdown",
   "id": "f26862a1-2f8d-4ca9-b8bc-d6ea9c7cb9f4",
   "metadata": {},
   "source": [
    "### 4) check histograms"
   ]
  },
  {
   "cell_type": "code",
   "execution_count": 18,
   "id": "ca755569-86ef-4ff5-bdcb-00c60c8f2c22",
   "metadata": {},
   "outputs": [
    {
     "data": {
      "text/plain": [
       "(array([1.221000e+03, 5.020000e+03, 1.619300e+04, 1.328410e+05,\n",
       "        2.971333e+06, 2.848394e+06, 8.541600e+04, 0.000000e+00,\n",
       "        0.000000e+00, 2.302300e+05]),\n",
       " array([-90., -81., -72., -63., -54., -45., -36., -27., -18.,  -9.,   0.]),\n",
       " <BarContainer object of 10 artists>)"
      ]
     },
     "execution_count": 18,
     "metadata": {},
     "output_type": "execute_result"
    },
    {
     "data": {
      "image/png": "[encoded data removed]",
      "text/plain": [
       "<Figure size 640x480 with 1 Axes>"
      ]
     },
     "metadata": {},
     "output_type": "display_data"
    }
   ],
   "source": [
    "plt.hist(ds.rsl.fillna(0).values.ravel())"
   ]
  },
  {
   "cell_type": "code",
   "execution_count": 19,
   "id": "d47878c2-feab-4bfe-ba56-e4db43309748",
   "metadata": {},
   "outputs": [
    {
     "data": {
      "text/plain": [
       "(array([1.221000e+03, 5.020000e+03, 1.619300e+04, 1.328410e+05,\n",
       "        2.971333e+06, 2.848394e+06, 8.541600e+04, 0.000000e+00,\n",
       "        0.000000e+00, 2.302300e+05]),\n",
       " array([-90., -81., -72., -63., -54., -45., -36., -27., -18.,  -9.,   0.]),\n",
       " <BarContainer object of 10 artists>)"
      ]
     },
     "execution_count": 19,
     "metadata": {},
     "output_type": "execute_result"
    },
    {
     "data": {
      "image/png": "[encoded data removed]",
      "text/plain": [
       "<Figure size 640x480 with 1 Axes>"
      ]
     },
     "metadata": {},
     "output_type": "display_data"
    }
   ],
   "source": [
    "plt.hist(ds_linkbylink.rsl.fillna(0).values.ravel())"
   ]
  },
  {
   "cell_type": "markdown",
   "id": "dcf806ae-f29f-4f02-bce6-d5d907ab5759",
   "metadata": {},
   "source": [
    "### 5) test memory usage "
   ]
  },
  {
   "cell_type": "code",
   "execution_count": 20,
   "id": "e6580912-1c5a-4a6b-9545-679164f4d403",
   "metadata": {},
   "outputs": [],
   "source": [
    "# the advantage of linkbylink is that it uses less memory \n",
    "# this is because linkbylink allocates the memory onece and then reads chunk by chunk from harddrive\n",
    "# whereas the xarray way of reshaping arrays seems to create a new one in memory, leading to twise as much\n",
    "# memory consumption. \n",
    "\n",
    "# however, reading all this data to memory is slow and maybe not realistic, unless for very interested people"
   ]
  },
  {
   "cell_type": "code",
   "execution_count": 21,
   "id": "f70fe8a3-7a8b-48af-b7f8-3cdc8c24a5cd",
   "metadata": {},
   "outputs": [],
   "source": [
    "# takes long time to run. but manages\n",
    "#%%time\n",
    "#ds_linkbylink = oddt.transform_andersson_2022_OpenMRG_linkbylink(\n",
    "#    fn='data/andersson_2022_OpenMRG/OpenMRG.zip', \n",
    "#    path_to_extract_to='data/andersson_2022_OpenMRG/',\n",
    "#    time_start_end = ('2015-06-28T00', '2015-07-29T00'), # default (None, None) -> no timeslicing. ie. ('2015-08-31T00', None),\n",
    "#    restructure_data=True,\n",
    "#    resample_1min=False\n",
    "#)"
   ]
  },
  {
   "cell_type": "code",
   "execution_count": null,
   "id": "e22438ae-357d-4db2-9ad4-b8148cf4204b",
   "metadata": {},
   "outputs": [],
   "source": [
    "# crashes (on limitied ram)\n",
    "ds = oddt.transform_andersson_2022_OpenMRG(\n",
    "    fn='andersson_2022_OpenMRG/OpenMRG.zip', \n",
    "    path_to_extract_to='data/andersson_2022_OpenMRG/',\n",
    "    time_start_end = ('2015-06-28T00', '2015-08-29T00'), # default (None, None) -> no timeslicing. ie. ('2015-08-31T00', None),\n",
    "    restructure_data=True,\n",
    ")"
   ]
  },
  {
   "cell_type": "code",
   "execution_count": null,
   "id": "09916361-288c-4dfb-8d76-4f9746494a4f",
   "metadata": {},
   "outputs": [],
   "source": []
  }
 ],
 "metadata": {
  "kernelspec": {
   "display_name": "Python 3 (ipykernel)",
   "language": "python",
   "name": "python3"
  },
  "language_info": {
   "codemirror_mode": {
    "name": "ipython",
    "version": 3
   },
   "file_extension": ".py",
   "mimetype": "text/x-python",
   "name": "python",
   "nbconvert_exporter": "python",
   "pygments_lexer": "ipython3",
   "version": "3.10.6"
  }
 },
 "nbformat": 4,
 "nbformat_minor": 5
}
