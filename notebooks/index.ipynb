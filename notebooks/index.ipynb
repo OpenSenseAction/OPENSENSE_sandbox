{
 "cells": [
  {
   "cell_type": "markdown",
   "id": "1c95b48f",
   "metadata": {},
   "source": [
    "### Please run the following cell first to initialize all packages\n",
    "(this initialization will take approx. 60 seconds)"
   ]
  },
  {
   "cell_type": "code",
   "execution_count": null,
   "id": "c69095d1",
   "metadata": {},
   "outputs": [],
   "source": [
    "import subprocess\n",
    "with open(\"init.log\", \"w\") as logfile: \n",
    "    subprocess.run('bash -c \"source activate /srv/conda/envs/notebook && bash ./init.sh\"', shell=True, stdout=logfile, stderr=logfile)\n",
    "# or run this if you are on your local machine with the env built from the yaml file\n",
    "#subprocess.run('bash -c \"source activate opensense_sandbox && bash ./init.sh\"', shell=True)"
   ]
  },
  {
   "cell_type": "markdown",
   "id": "667c6f01",
   "metadata": {},
   "source": [
    "# Outline of example notebooks implemented within the sandbox:\n",
    "\n",
    "* [Explore existing open datasets](./Explore_existing_datasets.ipynb)\n",
    "* CML data processing\n",
    "  * [Basic example of using pycomlink](./pycomlink_basic_example.ipynb)\n",
    "  * [Basic example of using PyNNcml](./pynncml_basic_example.ipynb)\n",
    "* PWS data procesing\n",
    "  * [Processing PWS data with PWSQC](../PWSQC_R_notebook/PWSQC_minimal_example.ipynb)\n",
    "  * [Processing PWS data with pws-pyqc](./PWS-pyqc_Sandbox.ipynb)"
    "* SML data plotting\n",
    "  * [Basic example of reading SML data using R](./R_read_and_inspect_SML_data.ipynb)"
   ]
  },
  {
   "cell_type": "code",
   "execution_count": null,
   "id": "2c1eee97",
   "metadata": {},
   "outputs": [],
   "source": []
  },
  {
   "cell_type": "code",
   "execution_count": null,
   "id": "479d7af1-fc2f-4df6-89ac-1a51ec5591b2",
   "metadata": {},
   "outputs": [],
   "source": []
  }
 ],
 "metadata": {
  "kernelspec": {
   "display_name": "Python 3 (ipykernel)",
   "language": "python",
   "name": "python3"
  },
  "language_info": {
   "codemirror_mode": {
    "name": "ipython",
    "version": 3
   },
   "file_extension": ".py",
   "mimetype": "text/x-python",
   "name": "python",
   "nbconvert_exporter": "python",
   "pygments_lexer": "ipython3",
   "version": "3.10.10"
  }
 },
 "nbformat": 4,
 "nbformat_minor": 5
}
