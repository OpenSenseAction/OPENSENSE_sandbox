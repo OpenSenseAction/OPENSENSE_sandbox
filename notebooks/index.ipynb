{
 "cells": [
  {
   "cell_type": "markdown",
   "id": "6189dbbd",
   "metadata": {},
   "source": [
    "# Notebooks \n",
    "This repo contains an introduction to software packages and datasets inside the OpenSense sandbox"
   ]
  },
  {
   "cell_type": "markdown",
   "id": "7322d98b",
   "metadata": {},
   "source": [
    "Please run the following cell first to initialize all packages"
   ]
  },
  {
   "cell_type": "code",
   "execution_count": null,
   "id": "ed24ea5e",
   "metadata": {},
   "outputs": [],
   "source": [
    "import subprocess\n",
    "subprocess.run('bash -c \"source activate notebook && bash ./init.sh\"', shell=True)\n",
    "# or run this if you are on your local machine with the env built from the yaml file\n",
    "#subprocess.run('bash -c \"source activate opensense_sandbox && bash ./init.sh\"', shell=True)"
   ]
  },
  {
   "cell_type": "markdown",
   "id": "ecb34642",
   "metadata": {},
   "source": [
    "Here is an outline of example notebooks implemented within the sandbox:\n",
    "\n",
    "* [Datasets notebook](./Explore_existing_datasets.ipynb)\n",
    "* [pycomlink notebook](./pycomlink_basic_example.ipynb)\n",
    "* [PyNNcml notebook](./pynncml_basic_example.ipynb)"
   ]
  }
 ],
 "metadata": {
  "kernelspec": {
   "display_name": "Python 3 (ipykernel)",
   "language": "python",
   "name": "python3"
  },
  "language_info": {
   "codemirror_mode": {
    "name": "ipython",
    "version": 3
   },
   "file_extension": ".py",
   "mimetype": "text/x-python",
   "name": "python",
   "nbconvert_exporter": "python",
   "pygments_lexer": "ipython3",
   "version": "3.8.13"
  }
 },
 "nbformat": 4,
 "nbformat_minor": 5
}
