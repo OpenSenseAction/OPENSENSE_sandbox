{
 "cells": [
  {
   "cell_type": "markdown",
   "id": "9a9e9297-ac3f-43f4-a1a2-9ad7307c4c1b",
   "metadata": {},
   "source": [
    "# Notebooks \n",
    "This repo contains an introduction to software packages and datasets inside the OpenSense sandbox\n",
    "\n",
    "\n",
    "Here is an outline of example notebooks implemented within the sandbox:\n",
    "\n",
    "* [Datasets notebook](./Explore_existing_datasets.ipynb)\n",
    "* [pycomlink notebook](./pycomlink_basic_example.ipynb)\n",
    "* [PyNNcml notebook](./pynncml_basic_example.ipynb)"
   ]
  }
 ],
 "metadata": {
  "kernelspec": {
   "display_name": "Python 3 (ipykernel)",
   "language": "python",
   "name": "python3"
  },
  "language_info": {
   "codemirror_mode": {
    "name": "ipython",
    "version": 3
   },
   "file_extension": ".py",
   "mimetype": "text/x-python",
   "name": "python",
   "nbconvert_exporter": "python",
   "pygments_lexer": "ipython3",
   "version": "3.10.6"
  }
 },
 "nbformat": 4,
 "nbformat_minor": 5
}
