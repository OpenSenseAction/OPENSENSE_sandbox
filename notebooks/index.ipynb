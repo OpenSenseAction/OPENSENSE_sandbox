{
 "cells": [
  {
   "cell_type": "markdown",
   "id": "1c95b48f",
   "metadata": {},
   "source": [
    "### Please run the following cell first to initialize all packages\n",
    "(this initialization will take approx. 60 seconds)"
   ]
  },
  {
   "cell_type": "code",
   "execution_count": 1,
   "id": "c69095d1",
   "metadata": {},
   "outputs": [],
   "source": [
    "import subprocess\n",
    "with open(\"init.log\", \"w\") as logfile: \n",
    "    subprocess.run('bash -c \"source activate /srv/conda/envs/notebook && bash ./init.sh\"', shell=True, stdout=logfile, stderr=logfile)\n",
    "# or run this if you are on your local machine with the env built from the yaml file\n",
    "#subprocess.run('bash -c \"source activate /Users/graf-m/miniconda3/envs/opensense_sandbox && bash ./init.sh\"', shell=True)"
   ]
  },
  {
   "cell_type": "markdown",
   "id": "667c6f01",
   "metadata": {},
   "source": [
    "# Outline of example notebooks implemented within the sandbox:\n",
    "#### Use case with complete workflow\n",
    "  * [Simple OpenMRG CML data processing from raw data to rainfall maps](./openMRG_use_case.ipynb)\n",
    "#### Explore open datasets\n",
    "  * [Explore existing open datasets](./Explore_existing_datasets.ipynb)\n",
    "#### Basic examples of CML data processing software packages\n",
    "  * [Basic example of using pycomlink](./pycomlink_basic_example.ipynb)\n",
    "  * [Basic example of using PyNNcml](./pynncml_basic_example.ipynb)\n",
    "#### Basic examples of PWS data processing software packages\n",
    "  * [Processing PWS data with PWSQC](../PWSQC_R_notebook/PWSQC_minimal_example.ipynb)\n",
    "  * [Processing PWS data with pws-pyqc](../pws-pyqc/OpenSense/Jupyter_Notebboks/Indicator_corr_Ams.ipynb)"
   ]
  }
 ],
 "metadata": {
  "kernelspec": {
   "display_name": "Python 3 (ipykernel)",
   "language": "python",
   "name": "python3"
  },
  "language_info": {
   "codemirror_mode": {
    "name": "ipython",
    "version": 3
   },
   "file_extension": ".py",
   "mimetype": "text/x-python",
   "name": "python",
   "nbconvert_exporter": "python",
   "pygments_lexer": "ipython3",
   "version": "3.10.6"
  }
 },
 "nbformat": 4,
 "nbformat_minor": 5
}
