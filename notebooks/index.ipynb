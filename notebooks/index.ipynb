{
 "cells": [
  {
   "cell_type": "markdown",
   "id": "1c95b48f",
   "metadata": {},
   "source": [
    "### Please run the following cell first to initialize all packages\n",
    "(this initialization will take approx. 60 seconds)"
   ]
  },
  {
   "cell_type": "code",
   "execution_count": 4,
   "id": "c69095d1",
   "metadata": {},
   "outputs": [
    {
     "name": "stdout",
     "output_type": "stream",
     "text": [
      "Running with the following python binary\n",
      "/Users/graf-m/miniconda3/envs/opensense_sandbox/bin/python\n",
      "\n",
      "get content of submodules...\n"
     ]
    },
    {
     "name": "stderr",
     "output_type": "stream",
     "text": [
      "Submodule 'PWSQC' (https://github.com/LottedeVos/PWSQC) registered for path 'PWSQC'\n",
      "Submodule 'PyNNcml' (https://github.com/haihabi/PyNNcml) registered for path 'PyNNcml'\n",
      "Submodule 'RAINLINK' (https://github.com/overeem11/RAINLINK.git) registered for path 'RAINLINK'\n",
      "Submodule 'pws-pyqc' (https://github.com/AbbasElHachem/pws-pyqc.git) registered for path 'pws-pyqc'\n",
      "Submodule 'pycomlink' (https://github.com/pycomlink/pycomlink) registered for path 'pycomlink'\n",
      "Cloning into '/Users/graf-m/git/OPENSENSE_sandbox/PWSQC'...\n",
      "Cloning into '/Users/graf-m/git/OPENSENSE_sandbox/PyNNcml'...\n",
      "Cloning into '/Users/graf-m/git/OPENSENSE_sandbox/RAINLINK'...\n",
      "Cloning into '/Users/graf-m/git/OPENSENSE_sandbox/pws-pyqc'...\n",
      "Cloning into '/Users/graf-m/git/OPENSENSE_sandbox/pycomlink'...\n"
     ]
    },
    {
     "name": "stdout",
     "output_type": "stream",
     "text": [
      "Submodule path 'PWSQC': checked out '012968e0da79fc3484262c93ca6ba63f80fd8ff0'\n",
      "Submodule path 'PyNNcml': checked out '808892da798913928fbc219cbb5f9e41156d9d49'\n",
      "Submodule path 'RAINLINK': checked out '3cc681cb5f24e657256f8096dbe882e009fe2602'\n",
      "Submodule path 'pws-pyqc': checked out '58e77258b506fe2549917f084fb3650cca76eb59'\n",
      "Submodule path 'pycomlink': checked out '12fc302539851b19f7656cf7e2438c0ddbaa48bf'\n",
      "\n",
      "add python submodules to conda env...\n",
      "added /Users/graf-m/git/OPENSENSE_sandbox/pycomlink\n",
      "completed operation for: /Users/graf-m/git/OPENSENSE_sandbox/pycomlink\n",
      "added /Users/graf-m/git/OPENSENSE_sandbox/PyNNcml\n",
      "completed operation for: /Users/graf-m/git/OPENSENSE_sandbox/PyNNcml\n",
      "added /Users/graf-m/git/OPENSENSE_sandbox/pws-pyqc\n",
      "completed operation for: /Users/graf-m/git/OPENSENSE_sandbox/pws-pyqc\n",
      "\n",
      "Install RAINLINK...\n"
     ]
    },
    {
     "name": "stderr",
     "output_type": "stream",
     "text": [
      "* installing to library ‘/Users/graf-m/miniconda3/envs/opensense_sandbox/lib/R/library’\n",
      "* installing *source* package ‘RAINLINK’ ...\n",
      "** using staged installation\n",
      "** R\n",
      "** data\n",
      "** inst\n",
      "** byte-compile and prepare package for lazy loading\n",
      "** help\n",
      "*** installing help indices\n",
      "** building package indices\n",
      "** testing if installed package can be loaded from temporary location\n",
      "** testing if installed package can be loaded from final location\n"
     ]
    },
    {
     "name": "stdout",
     "output_type": "stream",
     "text": [
      "\n",
      "create dir in RAINLINK for figures...\n",
      "\n",
      "...done\n"
     ]
    },
    {
     "name": "stderr",
     "output_type": "stream",
     "text": [
      "** testing if installed package keeps a record of temporary installation path\n",
      "* DONE (RAINLINK)\n"
     ]
    },
    {
     "data": {
      "text/plain": [
       "CompletedProcess(args='bash -c \"source activate /Users/graf-m/miniconda3/envs/opensense_sandbox && bash ./init.sh\"', returncode=0)"
      ]
     },
     "execution_count": 4,
     "metadata": {},
     "output_type": "execute_result"
    }
   ],
   "source": [
    "import subprocess\n",
    "#with open(\"init.log\", \"w\") as logfile: \n",
    "#    subprocess.run('bash -c \"source activate /srv/conda/envs/notebook && bash ./init.sh\"', shell=True, stdout=logfile, stderr=logfile)\n",
    "# or run this if you are on your local machine with the env built from the yaml file\n",
    "subprocess.run('bash -c \"source activate /Users/graf-m/miniconda3/envs/opensense_sandbox && bash ./init.sh\"', shell=True)"
   ]
  },
  {
   "cell_type": "markdown",
   "id": "667c6f01",
   "metadata": {},
   "source": [
    "# Outline of example notebooks implemented within the sandbox:\n",
    "## Explore open datasets\n",
    "* [Explore existing open datasets](./Explore_existing_datasets.ipynb)\n",
    "## Use case with complete workflow\n",
    "* [Simple OpenMRG CML data processing from raw data to rainfall maps](./openMRG_use_case.ipnb)\n",
    "## Basic examples of CML data processing software packages\n",
    "  * [Basic example of using pycomlink](./pycomlink_basic_example.ipynb)\n",
    "  * [Basic example of using PyNNcml](./pynncml_basic_example.ipynb)\n",
    "## Basic examples of PWS data processing software packages\n",
    "  * [Processing PWS data with PWSQC](../PWSQC_R_notebook/PWSQC_minimal_example.ipynb)\n",
    "  * [Processing PWS data with pws-pyqc](../pws-pyqc/OpenSense/Jupyter_Notebboks/Indicator_corr_Ams.ipynb)"
   ]
  },
  {
   "cell_type": "code",
   "execution_count": null,
   "id": "f31205ba-c708-4fcd-9d39-f6556e1ba3ec",
   "metadata": {},
   "outputs": [],
   "source": []
  }
 ],
 "metadata": {
  "kernelspec": {
   "display_name": "Python 3 (ipykernel)",
   "language": "python",
   "name": "python3"
  },
  "language_info": {
   "codemirror_mode": {
    "name": "ipython",
    "version": 3
   },
   "file_extension": ".py",
   "mimetype": "text/x-python",
   "name": "python",
   "nbconvert_exporter": "python",
   "pygments_lexer": "ipython3",
   "version": "3.10.6"
  }
 },
 "nbformat": 4,
 "nbformat_minor": 5
}
