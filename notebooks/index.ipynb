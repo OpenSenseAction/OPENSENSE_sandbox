{
 "cells": [
  {
   "cell_type": "markdown",
   "id": "a254844b",
   "metadata": {},
   "source": [
    "### Please run the following cell first to initialize all packages"
   ]
  },
  {
   "cell_type": "code",
   "execution_count": null,
   "id": "0e6bb213",
   "metadata": {},
   "outputs": [],
   "source": [
    "import subprocess\n",
    "with open(\"init.log\", \"w\") as logfile: \n",
    "    subprocess.run('bash -c \"source activate /srv/conda/envs/notebook && bash ./init.sh\"', shell=True, stdout=logfile, stderr=logfile)\n",
    "# or run this if you are on your local machine with the env built from the yaml file\n",
    "#subprocess.run('bash -c \"source activate opensense_sandbox && bash ./init.sh\"', shell=True)"
   ]
  },
  {
   "cell_type": "markdown",
   "id": "3e3119f1",
   "metadata": {},
   "source": [
    "# Outline of example notebooks implemented within the sandbox:\n",
    "\n",
    "* [Explore existing open datasets](./Explore_existing_datasets.ipynb)\n",
    "* CML data processing\n",
    "  * [Basic example of using pycomlink](./pycomlink_basic_example.ipynb)\n",
    "  * [Basic example of using PyNNcml](./pynncml_basic_example.ipynb)\n",
    "* PWS data procesing\n",
    "  * [Processing PWS data with PWSQC](../PWSQC_R_notebook/PWSQC_minimal_example.ipynb)\n",
    "  * [Processing PWS data with pws-pyqc](../pws-pyqc/OpenSense/Jupyter_Notebboks/Indicator_corr_Ams.ipynb)"
   ]
  },
  {
   "cell_type": "code",
   "execution_count": null,
   "id": "55809901",
   "metadata": {},
   "outputs": [],
   "source": []
  }
 ],
 "metadata": {
  "kernelspec": {
   "display_name": "Python 3 (ipykernel)",
   "language": "python",
   "name": "python3"
  },
  "language_info": {
   "codemirror_mode": {
    "name": "ipython",
    "version": 3
   },
   "file_extension": ".py",
   "mimetype": "text/x-python",
   "name": "python",
   "nbconvert_exporter": "python",
   "pygments_lexer": "ipython3",
   "version": "3.8.13"
  }
 },
 "nbformat": 4,
 "nbformat_minor": 5
}
