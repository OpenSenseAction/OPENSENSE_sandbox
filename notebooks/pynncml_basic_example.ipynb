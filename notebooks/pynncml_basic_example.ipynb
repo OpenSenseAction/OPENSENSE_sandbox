{
 "cells": [
  {
   "cell_type": "markdown",
   "id": "813c5c35-3afc-421a-9b65-d1f12c417cfc",
   "metadata": {},
   "source": [
    "# Import packages"
   ]
  },
  {
   "cell_type": "code",
   "execution_count": null,
   "id": "95f65771-0d6b-4527-aabb-3d612bf424c2",
   "metadata": {},
   "outputs": [
    {
     "name": "stderr",
     "output_type": "stream",
     "text": [
      "C:\\Users\\haih\\Anaconda3\\envs\\opensense\\lib\\site-packages\\tqdm\\auto.py:22: TqdmWarning: IProgress not found. Please update jupyter and ipywidgets. See https://ipywidgets.readthedocs.io/en/stable/user_install.html\n",
      "  from .autonotebook import tqdm as notebook_tqdm\n"
     ]
    }
   ],
   "source": [
    "import sys\n",
    "sys.path.append('../PyNNcml/') # This line is need to import pynncml\n",
    "import torch\n",
    "import pynncml as pnc\n",
    "import numpy as np\n",
    "from matplotlib import pyplot as plt\n",
    "import opensense_data_downloader_and_transformer as oddt"
   ]
  },
  {
   "cell_type": "markdown",
   "id": "81ec4db7-bbee-41ba-87ca-a0d07d865f12",
   "metadata": {},
   "source": [
    "# Download Dataset \n",
    "This is a generic code that download and preprocess the OpenMRG dataset."
   ]
  },
  {
   "cell_type": "code",
   "execution_count": null,
   "id": "369dad9d-873b-4920-b2b2-1e254045a170",
   "metadata": {},
   "outputs": [
    {
     "name": "stdout",
     "output_type": "stream",
     "text": [
      "File already exists at desired location data/andersson_2022_OpenMRG/OpenMRG.zip\n",
      "Not downloading!\n"
     ]
    }
   ],
   "source": [
    "oddt.download_andersson_2022_OpenMRG(local_path='data/andersson_2022_OpenMRG/', print_output=True)\n",
    "ds = oddt.transform_andersson_2022_OpenMRG(\n",
    "    fn='data/andersson_2022_OpenMRG/OpenMRG.zip', \n",
    "    path_to_extract_to='data/andersson_2022_OpenMRG/',\n",
    ")"
   ]
  },
  {
   "cell_type": "markdown",
   "id": "c3f993a4-9aef-4c95-afe3-0f8ee2ea2608",
   "metadata": {},
   "source": [
    "# Transform Dataset to PyNNcml format\n",
    "In this part of the code, we transform the OpenMRG dataset into PyNNcml format. In addition, we generate a Min-Max 15 minutes data from TSL and RSL  every  10sec sample to illustrate the use of some algorithms inside PyNNcml."
   ]
  },
  {
   "cell_type": "code",
   "execution_count": null,
   "id": "43a67cc3-cdeb-49ae-a7c8-744782e344b4",
   "metadata": {},
   "outputs": [],
   "source": [
    "sublink_index=0\n",
    "ds_sublink=ds.isel(sublink=sublink_index)\n",
    "# frequency, polarization, length, height_far, height_near\n",
    "meta_data=pnc.MetaData(float(ds_sublink.frequency),\n",
    "                   bool(ds_sublink.polarization!='Vertical'), # Vertical 1\n",
    "                   float(ds_sublink.length),\n",
    "                   25,\n",
    "                   25)\n",
    "rsl_array=np.asarray(ds_sublink.rx)\n",
    "tsl_array=np.asarray(ds_sublink.tx)\n",
    "time_array=np.asarray(ds_sublink.time).astype('datetime64[s]').astype(\"int\")\n",
    "link_data=pnc.Link(rsl_array,\n",
    "                   np.zeros(time_array.shape[0]), # Insert zero instade of rain rate values.\n",
    "                   time_array,\n",
    "                   meta_data,\n",
    "                   tsl_array)\n",
    "link_min_max=link_data.create_min_max_link(300)\n",
    "att=link_min_max.attenuation().T\n",
    "att=torch.unsqueeze(att,dim=0)"
   ]
  },
  {
   "cell_type": "markdown",
   "id": "b470e1ee-e81c-48a4-86ca-d0fbf31d1d56",
   "metadata": {},
   "source": [
    "# Running Dynamic Baseline +Power Law\n",
    "In the following line of code: we run a dynamic baseline algorithm [1] which is followed by calibrated min-max power-law [2]."
   ]
  },
  {
   "cell_type": "code",
   "execution_count": null,
   "id": "44288a2e-c688-45ae-b887-3bb05cdb6cda",
   "metadata": {},
   "outputs": [],
   "source": [
    "osd = pnc.rain_estimation.one_step_dynamic_baseline(pnc.power_law.PowerLawType.MAX,1.2,8) # init classification model\n",
    "rain = osd(att,link_min_max.meta_data) # run Dynamic method"
   ]
  },
  {
   "cell_type": "markdown",
   "id": "b3f80c3b-2062-4035-a50b-84a4bf424596",
   "metadata": {},
   "source": [
    "# Plot\n",
    "Here, we plot the rain estimation and sub-link min-max attenuation "
   ]
  },
  {
   "cell_type": "code",
   "execution_count": null,
   "id": "811bccf0-3920-4739-b00f-79bdb8e45992",
   "metadata": {},
   "outputs": [],
   "source": [
    "\n",
    "plt.subplot(1,2,1)\n",
    "plt.plot(rain[0,:].numpy())\n",
    "plt.show()\n",
    "plt.subplot(1,2,2)\n",
    "# plt.plot(wd)"
   ]
  },
  {
   "cell_type": "markdown",
   "id": "6b3b1b12-8885-4caa-9152-1f46bda5e8e3",
   "metadata": {},
   "source": [
    "# References \n",
    "[1] \n",
    "\n",
    "[2]"
   ]
  }
 ],
 "metadata": {
  "kernelspec": {
   "display_name": "Python 3 (ipykernel)",
   "language": "python",
   "name": "python3"
  },
  "language_info": {
   "codemirror_mode": {
    "name": "ipython",
    "version": 3
   },
   "file_extension": ".py",
   "mimetype": "text/x-python",
   "name": "python",
   "nbconvert_exporter": "python",
   "pygments_lexer": "ipython3",
   "version": "3.10.6"
  }
 },
 "nbformat": 4,
 "nbformat_minor": 5
}
