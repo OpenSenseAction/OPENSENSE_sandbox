{
 "cells": [
  {
   "cell_type": "markdown",
   "id": "1f71b768",
   "metadata": {},
   "source": [
    "# Read and inspect SML data from HD rain\n",
    "This script reads and plots sample of SML data from satellite link with terminal operated by HD rain. Data are from the OPENSENSE GDrive repo. Furthermore, rain-gauge data from Hourly-GLobal dataset of NOAA are used as a reference.\n"
   ]
  },
  {
   "cell_type": "markdown",
   "id": "fc16217d",
   "metadata": {},
   "source": [
    "## Source functions, load libraries, configure time zone"
   ]
  },
  {
   "cell_type": "code",
   "execution_count": 5,
   "id": "4aaad0df",
   "metadata": {},
   "outputs": [],
   "source": [
    "Sys.setenv(tz = 'UTC')\n",
    "source('fun_SMLs.R')\n",
    "library(zoo)"
   ]
  },
  {
   "cell_type": "markdown",
   "id": "73f33bbe",
   "metadata": {},
   "source": [
    "## Read and reformate data"
   ]
  },
  {
   "cell_type": "markdown",
   "id": "aad86a47",
   "metadata": {},
   "source": [
    "### Read SML data&metadata"
   ]
  },
  {
   "cell_type": "code",
   "execution_count": 6,
   "id": "179db301",
   "metadata": {},
   "outputs": [],
   "source": [
    "# Read SML metadata\n",
    "id <- '16zLpGunEznvCnAjQ2efOwMvOb_TB3Zbu'\n",
    "metaSML <- read.table(sprintf(\"https://docs.google.com/uc?id=%s&export=download\", id),\n",
    "                   sep = ';', header = T)\n",
    "# Read SML data\n",
    "id <- \"1VGR7GcRpwnqufD0MziGIunUU1Orm9JSo\"\n",
    "DF <- read.table(sprintf(\"https://docs.google.com/uc?id=%s&export=download\", id),\n",
    "                 header = T, sep = ';')\n",
    "sml <- zoo(DF[, 2], as.POSIXct(DF[, 1]))"
   ]
  },
  {
   "cell_type": "markdown",
   "id": "f04e9fc2",
   "metadata": {},
   "source": [
    "### Read rain-gauge data"
   ]
  },
  {
   "cell_type": "code",
   "execution_count": 7,
   "id": "f1f0f368",
   "metadata": {},
   "outputs": [
    {
     "name": "stderr",
     "output_type": "stream",
     "text": [
      "Warning message in zoo(as.numeric(rgMtx[, 2]), tim):\n",
      "\"some methods for \"zoo\" objects do not work if the index entries in 'order.by' are not unique\"\n",
      "Warning message in zoo(as.numeric(rgMtx[, 2]), tim):\n",
      "\"some methods for \"zoo\" objects do not work if the index entries in 'order.by' are not unique\"\n"
     ]
    }
   ],
   "source": [
    "fnams <- c('1QmfDeqOIcHcEPWFEHw9uF4XkB_Ur3SmZ',\n",
    "           '1_sXs6GaZi9xKgpqm47kDXfiHPWWKkz87')\n",
    "\n",
    "rgList <- list()\n",
    "for (i in 1 : 2) {\n",
    "  meteo <- read.table(sprintf(\"https://docs.google.com/uc?id=%s&export=download\", fnams[i]), sep = ',', header = T)\n",
    "  tim <- as.POSIXct(meteo$DATE, format = \"%Y-%m-%dT%H:%M:%S\")\n",
    "  rgMtx <- split_strings(meteo, 'AA1')\n",
    "  rg <- zoo(as.numeric(rgMtx[, 2]), tim)\n",
    "  rg <- rg[!is.na(rgMtx[, 2])]\n",
    "  rg[rg == 9999] <- NA\n",
    "  rgList[[i]] <- rg / 10\n",
    "}"
   ]
  },
  {
   "cell_type": "markdown",
   "id": "08060c54",
   "metadata": {},
   "source": [
    "## Plot SML data"
   ]
  },
  {
   "cell_type": "code",
   "execution_count": 15,
   "id": "29bc3314",
   "metadata": {},
   "outputs": [
    {
     "name": "stderr",
     "output_type": "stream",
     "text": [
      "Warning message in plot.xy(xy.coords(x, y), type = type, ...):\n",
      "\"\"axes\" is not a graphical parameter\"\n"
     ]
    },
    {
     "data": {
      "image/png": "[encoded data removed]",
      "text/plain": [
       "Plot with title \"\""
      ]
     },
     "metadata": {
      "image/png": {
       "height": 360,
       "width": 720
      }
     },
     "output_type": "display_data"
    }
   ],
   "source": [
    "options(repr.plot.width = 12, repr.plot.height = 6)\n",
    "par (mar = c(4, 4.5, 1.5, 4.5))\n",
    "plot(sml, ylab = 'Total loss (dB)', main = 'event on 2021-09-15',\n",
    "     ylim = c(-28, -14))\n",
    "par(new = T)\n",
    "\n",
    "plot(window(rgList[[1]], start = start(sml), end = end(sml)), col = 4,\n",
    "     type = 'S', ylim = c(0, 70), axes = F, ylab = '')\n",
    "lines(rgList[[2]], col = 2, type = 'S')\n",
    "\n",
    "axis(4)\n",
    "mtext('RG - NOAA (mm / h)', 4, 3)\n",
    "legend('right', c(\"TL-SML\", 'R-RG1', 'R-RG2'), col = c(1,2,4), lwd = 2)"
   ]
  },
  {
   "cell_type": "code",
   "execution_count": null,
   "id": "60d3a9c6",
   "metadata": {},
   "outputs": [],
   "source": []
  }
 ],
 "metadata": {
  "kernelspec": {
   "display_name": "R",
   "language": "R",
   "name": "ir"
  },
  "language_info": {
   "codemirror_mode": "r",
   "file_extension": ".r",
   "mimetype": "text/x-r-source",
   "name": "R",
   "pygments_lexer": "r",
   "version": "4.1.3"
  }
 },
 "nbformat": 4,
 "nbformat_minor": 5
}
