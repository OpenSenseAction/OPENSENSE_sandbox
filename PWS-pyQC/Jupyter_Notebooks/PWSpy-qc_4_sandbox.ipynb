{
 "cells": [
  {
   "cell_type": "markdown",
   "metadata": {
    "slideshow": {
     "slide_type": "slide"
    }
   },
   "source": [
    "## 1. Loading PWS and auxilliary data (primary stations)"
   ]
  },
  {
   "cell_type": "markdown",
   "metadata": {
    "slideshow": {
     "slide_type": "subslide"
    }
   },
   "source": [
    "### 1.0 Import packages and adjust settings"
   ]
  },
  {
   "cell_type": "code",
   "execution_count": null,
   "metadata": {
    "slideshow": {
     "slide_type": "-"
    }
   },
   "outputs": [],
   "source": [
    "%load_ext autoreload\n",
    "%autoreload 2\n",
    "%matplotlib inline\n",
    "\n",
    "import xarray as xr\n",
    "xr.set_options(display_style='text'); # Show xarray.Dataset representation as text\n",
    "\n",
    "#import pycomlink as pycml\n",
    "\n",
    "import matplotlib.pyplot as plt\n",
    "plt.rcParams.update({'font.size': 10}) # Set plot font size to 16pt\n",
    "\n",
    "import numpy as np\n",
    "import time\n",
    "from scipy.spatial import cKDTree\n",
    "from pykrige import OrdinaryKriging as OKpy\n",
    "import tqdm\n",
    "import os\n",
    "import pandas as pd\n",
    "import matplotlib as mpl\n",
    "\n",
    "# OPENSENSE Sandbox tools \n",
    "# ToDo: Set link from local to github\n",
    "import PWSpyqcFunctions as pyqc\n",
    "#import pycomlink as pycml\n",
    "\n",
    "# Relative path to the data directory\n",
    "main_dir = r\"../../PWS-pyQC/Data\"\n"
   ]
  },
  {
   "cell_type": "markdown",
   "metadata": {
    "slideshow": {
     "slide_type": "skip"
    }
   },
   "source": [
    "`PWSpy-qc` specific settings "
   ]
  },
  {
   "cell_type": "code",
   "execution_count": null,
   "metadata": {},
   "outputs": [],
   "source": [
    "# maximun distance (meters) for which the indicator correlation is calculated\n",
    "max_distance = 50000\n",
    "\n",
    "# Precentile threshold for indicator correlation \n",
    "prob=0.99\n",
    "\n",
    "# todo: chekc if and where this is needed\n",
    "show_plot = True\n",
    "\n",
    "# minimum number of records (in hours) with values (here 2 months)\n",
    "min_req_ppt_vals = 2*30*24 "
   ]
  },
  {
   "cell_type": "markdown",
   "metadata": {
    "slideshow": {
     "slide_type": "subslide"
    }
   },
   "source": [
    "## 1.1 Load the csv data files"
   ]
  },
  {
   "cell_type": "code",
   "execution_count": null,
   "metadata": {},
   "outputs": [],
   "source": [
    "# Automatic weather satation data from KNMI Netherlands\n",
    "path_primary_network = os.path.join(main_dir, r\"data_AWS_stns_data.csv\")\n",
    "path_primary_metadata = os.path.join(main_dir, r\"data_AWS_stns_coords.csv\")   \n",
    "\n",
    "# Data from 20 randomly chose radar grid cells as \"primary stations 2\" for the Amsterdam area\n",
    "path_primary_network2 = os.path.join(main_dir, r\"data_Radar_grid_cell_vals.csv\")\n",
    "path_primary_metadata2 = os.path.join(main_dir, r\"data_selected_radar_grid_lonlat.csv\") \n",
    "\n",
    "\n",
    "# PWS hourly data ()\n",
    "path_pws_data = os.path.join(main_dir, r\"data_AMS_PWS_hourly_shifted.csv\")   \n",
    "path_pws_metadata = os.path.join(main_dir, r\"data_AMS_metadata.csv\")"
   ]
  },
  {
   "cell_type": "code",
   "execution_count": null,
   "metadata": {
    "slideshow": {
     "slide_type": ""
    },
    "tags": []
   },
   "outputs": [],
   "source": [
    "# read primary network 1\n",
    "print('Reading first primary network data')\n",
    "# pyqc.read_pcp_csv_file has 'latin-1' encoding in PWSpyqcFunctions.py\n",
    "in_primary_pcp = pyqc.read_pcp_csv_file(path_to_file=path_primary_network,\n",
    "                           sep_type=';',\n",
    "                           index_col=0)\n",
    "\n",
    "# pyqc uses EPSG:25832, for Netherlands EPSG:28531 is used!\n",
    "# Reads coordinate file and additionally coverts Lat/Lon to UTM 32\n",
    "df_prim_coords, prim_coords_xy = pyqc.read_metadata_csv_file(path_primary_metadata,\n",
    "                                                           sep_type=';', index_col=0,)\n",
    "df_prim_coords.index = in_primary_pcp.columns\n",
    "# read primary network 2\n",
    "print('Reading secondary primary network data')\n",
    "in_primary_pcp_2 = pyqc.read_pcp_csv_file(path_to_file=path_primary_network2,\n",
    "                           sep_type=';',\n",
    "                           index_col=0)\n",
    "\n",
    "df_prim_coords_2, prim_coords_xy_2 = pyqc.read_metadata_csv_file(\n",
    "            path_primary_metadata2,\n",
    "            sep_type=',', index_col=0,)\n",
    "df_prim_coords_2.index = in_primary_pcp_2.columns\n",
    "\n",
    "# read pws data\n",
    "print('Reading PWS data')\n",
    "df_pws_pcp_hourly = pyqc.read_pcp_csv_file(\n",
    "        path_to_file=path_pws_data,\n",
    "                           sep_type=';',\n",
    "                           index_col=0)\n",
    "    \n",
    "df_pws_coords, pws_coords_xy = pyqc.read_metadata_csv_file(\n",
    "        path_to_file=path_pws_metadata,\n",
    "                           sep_type=',',\n",
    "                           index_col=0)\n",
    "df_pws_coords.index = df_pws_pcp_hourly.columns"
   ]
  },
  {
   "cell_type": "markdown",
   "metadata": {},
   "source": [
    "### 1.3.1 Location of the stations"
   ]
  },
  {
   "cell_type": "code",
   "execution_count": null,
   "metadata": {},
   "outputs": [],
   "source": [
    "print('Plotting locations of all data')\n",
    "\n",
    "pyqc.plot_pws_prim_netz_loc(lon_pws=df_pws_coords.lon,\n",
    "                       lat_pws=df_pws_coords.lat,\n",
    "                      lon_prim1=df_prim_coords.lon,\n",
    "                       lat_prim1=df_prim_coords.lat,\n",
    "                      lon_prim2=df_prim_coords_2.lon,\n",
    "                       lat_prim2=df_prim_coords_2.lat)\n",
    "\n",
    "    \n"
   ]
  },
  {
   "cell_type": "code",
   "execution_count": null,
   "metadata": {
    "slideshow": {
     "slide_type": "subslide"
    }
   },
   "outputs": [],
   "source": [
    "print('Plotting locations of data in and around Amsterdam')\n",
    "\n",
    "pyqc.plot_pws_prim_netz_loc_AMS(lon_pws=df_pws_coords.lon,\n",
    "                       lat_pws=df_pws_coords.lat,\n",
    "                      lon_prim1=df_prim_coords.lon,\n",
    "                       lat_prim1=df_prim_coords.lat,\n",
    "                      lon_prim2=df_prim_coords_2.lon,\n",
    "                       lat_prim2=df_prim_coords_2.lat)"
   ]
  },
  {
   "cell_type": "markdown",
   "metadata": {
    "slideshow": {
     "slide_type": "slide"
    }
   },
   "source": [
    "## 2. First PWSpy-QC step: Indicator correlation based filter\n",
    "The fist QC-filter of PWS-pyqc is based on indicator correlation patterns of the primary network (cf. [Bárdossy et al. 2021](https://doi.org/10.5194/hess-25-583-2021)). First, the data of the primary network are converted to 1 and 0 based on a threshhold, in this case the 99%-percentile. All values above this percentile are 1, all below 0. This indicator correaltion of the primay stations has a spatial structure, i.e. the correlation decreases with increasing distance"
   ]
  },
  {
   "cell_type": "code",
   "execution_count": null,
   "metadata": {
    "slideshow": {
     "slide_type": "subslide"
    }
   },
   "outputs": [],
   "source": [
    "# Plot indicator correlation values different networks\n",
    "# calculate indicator correlation primary network\n",
    "print('Calculating indicator correlation')\n",
    "dist_prim, corr_prim = pyqc.calc_indic_corr_all_stns(\n",
    "                             coords_stns_xy=prim_coords_xy,\n",
    "                             pcp_vals=in_primary_pcp.values, prob=0.99)\n",
    "\n",
    "# calculate indicator correlation second primary network\n",
    "dist_prim2, corr_prim2 = pyqc.calc_indic_corr_all_stns(\n",
    "    coords_stns_xy=prim_coords_xy_2,\n",
    "    pcp_vals=in_primary_pcp_2.values, prob=0.99)\n",
    "\n",
    "# claculate indicator correlation PWS-PWS\n",
    "dist_pws, corr_pws = pyqc.calc_indic_corr_all_stns(\n",
    "                    coords_stns_xy=pws_coords_xy,\n",
    "                         pcp_vals=df_pws_pcp_hourly.values)\n",
    "\n",
    "# plot indicator correlations\n",
    "pyqc.plot_indic_coor(dist_prim=dist_prim,\n",
    "                corr_prim=corr_prim,\n",
    "                dist_pws=dist_pws,\n",
    "               corr_pws=corr_pws)"
   ]
  },
  {
   "cell_type": "markdown",
   "metadata": {
    "slideshow": {
     "slide_type": "fragment"
    }
   },
   "source": [
    "We can see that there is a large gap up to 20 km in the primary network, hence there's information about the spatial structure missing. This is the reason why the data from the KMNI gauge adjusted radar product are used in addtion"
   ]
  },
  {
   "cell_type": "code",
   "execution_count": null,
   "metadata": {
    "slideshow": {
     "slide_type": ""
    },
    "tags": []
   },
   "outputs": [],
   "source": [
    "pyqc.plot_indic_coor(dist_prim=dist_prim,\n",
    "                corr_prim=corr_prim,\n",
    "                dist_pws=dist_pws,\n",
    "               corr_pws=corr_pws,\n",
    "               dist_prim2=dist_prim2,\n",
    "               corr_prim2=corr_prim2)"
   ]
  },
  {
   "cell_type": "markdown",
   "metadata": {
    "slideshow": {
     "slide_type": "slide"
    }
   },
   "source": [
    "### Applying the Indicator correlation based filter¶"
   ]
  },
  {
   "cell_type": "code",
   "execution_count": null,
   "metadata": {
    "slideshow": {
     "slide_type": "-"
    }
   },
   "outputs": [],
   "source": [
    "# apply indicator filter (using primary stations 2)\n",
    "\n",
    "stn_in = pyqc.indicator_filter(xy_net=pws_coords_xy,\n",
    "                 prc_net=df_pws_pcp_hourly,\n",
    "                 xy_dwd=prim_coords_xy_2,\n",
    "                 prc_dwd=in_primary_pcp_2,\n",
    "                     prob=0.99, max_distance=max_distance,\n",
    "                     min_req_ppt_vals=2*24*30, show_plot=True,\n",
    "                     fn_figure='Indicator Correlation',\n",
    "                     save_folder=None,\n",
    "                    tolerance=.99)\n",
    "\n",
    "# what data type is stn_in\n",
    "# Was ist tolerance? (1 muss größer als min) Parameter zum aus probieren"
   ]
  },
  {
   "cell_type": "code",
   "execution_count": null,
   "metadata": {
    "slideshow": {
     "slide_type": "subslide"
    }
   },
   "outputs": [],
   "source": [
    "# list the accepted stations\n",
    "pws_ids_accepted = df_pws_pcp_hourly.columns[np.where(stn_in==True)]\n",
    "pws_ids_accepted"
   ]
  },
  {
   "cell_type": "markdown",
   "metadata": {
    "slideshow": {
     "slide_type": "slide"
    },
    "tags": []
   },
   "source": [
    "## 3. Bias Correction\n",
    "\n",
    "PWS can over- or undererstimate the precepitation compared to a professional refernce station (panel b) in figure below). The reasons herefore are mayfold (c.f. Introduction). The goal is to correct the PWS distribution function usind the distribution function of neighbouring primary network stations. For more details see [Bárdossy et al. (2021)](https://doi.org/10.5194/hess-25-583-2021)\n",
    "\n",
    "\n"
   ]
  },
  {
   "cell_type": "code",
   "execution_count": null,
   "metadata": {
    "slideshow": {
     "slide_type": "subslide"
    },
    "tags": []
   },
   "outputs": [],
   "source": [
    "df_pws_bias_corrected = pyqc.bias_corr_pws_cdf(df_pws_raw=df_pws_pcp_hourly,\n",
    "                        pws_ids_accepted=pws_ids_accepted,\n",
    "                        df_pws_coords=df_pws_coords,                            \n",
    "                        prim_coords_xy_2=prim_coords_xy_2,\n",
    "                        in_primary_pcp_2=in_primary_pcp_2,\n",
    "                        df_prim_coords_2=df_prim_coords_2,\n",
    "                        nstns_correct=len(pws_ids_accepted), #2,\n",
    "                        plot_figures=False,\n",
    "                        ppt_min_thr_0_vals=0.1,  # below it all values get p0/2\n",
    "                        min_qt_to_correct=0.9,)"
   ]
  },
  {
   "cell_type": "markdown",
   "metadata": {},
   "source": [
    "Umcomment the cell below for saving the output"
   ]
  },
  {
   "cell_type": "code",
   "execution_count": null,
   "metadata": {},
   "outputs": [],
   "source": [
    "#df_pws_bias_corrected.to_csv('PWS_AMS_bias_corr.csv', sep=';')"
   ]
  },
  {
   "cell_type": "markdown",
   "metadata": {},
   "source": [
    "## 4. Apply On-Event filter \n",
    "\n",
    "The goal is to correct the PWS values (false zeros) and (false high values)\n",
    "[Bárdossy et al. (2021)](https://doi.org/10.5194/hess-25-583-2021)\n",
    "\n",
    "[El Hachem et at. (2022)](https://doi.org/10.5194/hess-26-6137-2022)"
   ]
  },
  {
   "cell_type": "code",
   "execution_count": null,
   "metadata": {},
   "outputs": [],
   "source": [
    "df_pws_flagged = pyqc.on_event_filter(df_pws=df_pws_bias_corrected, \n",
    "                               df_prim=in_primary_pcp_2, \n",
    "                               df_pws_coords=df_pws_coords,\n",
    "                               df_prim_coords=df_prim_coords_2)"
   ]
  },
  {
   "cell_type": "markdown",
   "metadata": {},
   "source": [
    "Umcomment the cell below for saving the output"
   ]
  },
  {
   "cell_type": "code",
   "execution_count": null,
   "metadata": {},
   "outputs": [],
   "source": [
    "#df_pws_flagged.to_csv('PWS_AMS_bias_corr_event.csv', sep=';')"
   ]
  },
  {
   "cell_type": "code",
   "execution_count": null,
   "metadata": {},
   "outputs": [],
   "source": []
  }
 ],
 "metadata": {
  "celltoolbar": "Slideshow",
  "kernelspec": {
   "display_name": "Python 3 (ipykernel)",
   "language": "python",
   "name": "python3"
  },
  "language_info": {
   "codemirror_mode": {
    "name": "ipython",
    "version": 3
   },
   "file_extension": ".py",
   "mimetype": "text/x-python",
   "name": "python",
   "nbconvert_exporter": "python",
   "pygments_lexer": "ipython3",
   "version": "3.10.6"
  },
  "toc": {
   "base_numbering": 0
  }
 },
 "nbformat": 4,
 "nbformat_minor": 4
}
