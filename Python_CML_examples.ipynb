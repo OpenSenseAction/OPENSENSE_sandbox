{
 "cells": [
  {
   "cell_type": "markdown",
   "id": "9a2081c1-1215-48de-9aa4-8c1dd4fc1d47",
   "metadata": {},
   "source": [
    "# Examples for getting CML data and processing it"
   ]
  },
  {
   "cell_type": "markdown",
   "id": "2acd6efd-1a11-40cd-8753-24afd3134b98",
   "metadata": {},
   "source": [
    "## Download open CML dataset from the Netherlands and convert to NetCDF"
   ]
  },
  {
   "cell_type": "code",
   "execution_count": 1,
   "id": "5eb6738a-2e57-4800-ba03-2003c927e667",
   "metadata": {},
   "outputs": [],
   "source": [
    "import opensense_data_downloader_and_transformer as oddt"
   ]
  },
  {
   "cell_type": "code",
   "execution_count": null,
   "id": "45506327-8c63-4521-8595-10998d855d53",
   "metadata": {},
   "outputs": [
    {
     "name": "stdout",
     "output_type": "stream",
     "text": [
      "Downloading https://data.4tu.nl/ndownloader/files/24025658\n",
      "to overeem_2019_large_CML_data_Netherlands/data.zip\n"
     ]
    }
   ],
   "source": [
    "oddt.download_overeem_2019_large_CML_data_Netherlands(\n",
    "    local_path='overeem_2019_large_CML_data_Netherlands', \n",
    "    print_output=True,\n",
    ")"
   ]
  },
  {
   "cell_type": "code",
   "execution_count": null,
   "id": "f54dcbbf-3602-4477-b6dc-7dd28c7c9798",
   "metadata": {},
   "outputs": [],
   "source": [
    "ds_overeem_2019 = oddt.transform_overeem_2019_large_CML_data_Netherlands(\n",
    "    fn='overeem_2019_large_CML_data_Netherlands/data.zip', \n",
    "    nrows=2e6,\n",
    ")"
   ]
  },
  {
   "cell_type": "code",
   "execution_count": null,
   "id": "4fb4be02-3db7-4342-86c8-4194f8e791fc",
   "metadata": {},
   "outputs": [],
   "source": [
    "ds_overeem_2019"
   ]
  },
  {
   "cell_type": "code",
   "execution_count": null,
   "id": "a4fa7095-06f7-470e-b855-a98541b27529",
   "metadata": {},
   "outputs": [],
   "source": [
    "ds_overeem_2019.to_netcdf('overeem_2019_large_CML_data_Netherlands/example.nc')"
   ]
  },
  {
   "cell_type": "markdown",
   "id": "69ef7cce-e9f6-4693-971e-95ac8d5400b6",
   "metadata": {},
   "source": [
    "## Load data from NetCDF and do some example plots"
   ]
  },
  {
   "cell_type": "code",
   "execution_count": null,
   "id": "c2c6c470-771d-4639-8b31-a1a014c3def8",
   "metadata": {},
   "outputs": [],
   "source": [
    "import matplotlib.pyplot as plt\n",
    "for lon1, lat1, lon2, lat2 in zip(\n",
    "    ds_overeem_2019.site_a_longitude, \n",
    "    ds_overeem_2019.site_a_latitude,\n",
    "    ds_overeem_2019.site_b_longitude, \n",
    "    ds_overeem_2019.site_b_latitude):\n",
    "    \n",
    "    plt.plot([lon1, lon2], [lat1, lat2], \"-\", c=\"black\")"
   ]
  },
  {
   "cell_type": "code",
   "execution_count": null,
   "id": "cebeb4b7-f091-45ee-ba12-b6192c1fb9ec",
   "metadata": {},
   "outputs": [],
   "source": [
    "plt.scatter(ds_overeem_2019.length.values,ds_overeem_2019.frequency.values,s=2,color='black')\n",
    "plt.xlabel(\"length [km]\")\n",
    "plt.ylabel(\"frequency [GHz]\");"
   ]
  },
  {
   "cell_type": "code",
   "execution_count": null,
   "id": "cf1b6367-b5d1-47c5-8248-ffbc8486adf5",
   "metadata": {},
   "outputs": [],
   "source": [
    "fig,ax=plt.subplots(ncols=3,figsize=(20,3))\n",
    "for i,j in zip([49,99,149],[0,1,2]):\n",
    "    ds_overeem_2019.isel(cml_id=i).pmin.plot(label=\"pmin\",ax=ax[j])\n",
    "    ds_overeem_2019.isel(cml_id=i).pmax.plot(label=\"pmax\",ax=ax[j])\n",
    "    ax[j].legend()"
   ]
  },
  {
   "cell_type": "code",
   "execution_count": null,
   "id": "a845403b-2380-4f29-bb97-b53f7f560411",
   "metadata": {},
   "outputs": [],
   "source": []
  }
 ],
 "metadata": {
  "kernelspec": {
   "display_name": "Python 3 (ipykernel)",
   "language": "python",
   "name": "python3"
  },
  "language_info": {
   "codemirror_mode": {
    "name": "ipython",
    "version": 3
   },
   "file_extension": ".py",
   "mimetype": "text/x-python",
   "name": "python",
   "nbconvert_exporter": "python",
   "pygments_lexer": "ipython3",
   "version": "3.10.4"
  }
 },
 "nbformat": 4,
 "nbformat_minor": 5
}
